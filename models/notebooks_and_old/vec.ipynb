{
 "cells": [
  {
   "cell_type": "code",
   "execution_count": 6,
   "id": "initial_id",
   "metadata": {
    "collapsed": true,
    "ExecuteTime": {
     "end_time": "2023-09-22T12:42:45.970670800Z",
     "start_time": "2023-09-22T12:42:45.939103200Z"
    }
   },
   "outputs": [
    {
     "data": {
      "text/plain": "      user_id          channel_name  \\\n0  6555020781  https://t.me/kolezev   \n1  6555020781  https://t.me/kolezev   \n2  6555020781  https://t.me/kolezev   \n3  6555020781   https://t.me/rusven   \n4  6555020781   https://t.me/rusven   \n5  6555020781   https://t.me/rusven   \n6  6555020781   https://t.me/rusven   \n7  6555020781   https://t.me/rusven   \n\n                                    publication_text  \\\n0  ⚡️ **Неизвестные угрожают журналисткам «Важных...   \n1  Telegram [собирается ввести](https://t.me/tgin...   \n2  The New York Times провели [тщательное расслед...   \n3  Циан стал владельцем сервиса для электронной р...   \n4  Российский фудтех-стартап “Повар на связи” при...   \n5  **Какие тренды на венчурные инвестиции в Росси...   \n6  Компания WayRay, базирующаяся в Швейцарии, [об...   \n7  #газеты\\n“Ростелеком” получил 100% в разработч...   \n\n             publication_link     publication_date  \n0  https://t.me/kolezev/14051  2023-09-19 17:21:59  \n1  https://t.me/kolezev/14050  2023-09-19 05:27:06  \n2  https://t.me/kolezev/14049  2023-09-19 04:02:10  \n3    https://t.me/rusven/5399  2023-09-19 15:29:20  \n4    https://t.me/rusven/5398  2023-09-19 14:30:02  \n5    https://t.me/rusven/5397  2023-09-19 08:07:01  \n6    https://t.me/rusven/5396  2023-09-19 07:16:05  \n7    https://t.me/rusven/5395  2023-09-19 06:42:10  ",
      "text/html": "<div>\n<style scoped>\n    .dataframe tbody tr th:only-of-type {\n        vertical-align: middle;\n    }\n\n    .dataframe tbody tr th {\n        vertical-align: top;\n    }\n\n    .dataframe thead th {\n        text-align: right;\n    }\n</style>\n<table border=\"1\" class=\"dataframe\">\n  <thead>\n    <tr style=\"text-align: right;\">\n      <th></th>\n      <th>user_id</th>\n      <th>channel_name</th>\n      <th>publication_text</th>\n      <th>publication_link</th>\n      <th>publication_date</th>\n    </tr>\n  </thead>\n  <tbody>\n    <tr>\n      <th>0</th>\n      <td>6555020781</td>\n      <td>https://t.me/kolezev</td>\n      <td>⚡️ **Неизвестные угрожают журналисткам «Важных...</td>\n      <td>https://t.me/kolezev/14051</td>\n      <td>2023-09-19 17:21:59</td>\n    </tr>\n    <tr>\n      <th>1</th>\n      <td>6555020781</td>\n      <td>https://t.me/kolezev</td>\n      <td>Telegram [собирается ввести](https://t.me/tgin...</td>\n      <td>https://t.me/kolezev/14050</td>\n      <td>2023-09-19 05:27:06</td>\n    </tr>\n    <tr>\n      <th>2</th>\n      <td>6555020781</td>\n      <td>https://t.me/kolezev</td>\n      <td>The New York Times провели [тщательное расслед...</td>\n      <td>https://t.me/kolezev/14049</td>\n      <td>2023-09-19 04:02:10</td>\n    </tr>\n    <tr>\n      <th>3</th>\n      <td>6555020781</td>\n      <td>https://t.me/rusven</td>\n      <td>Циан стал владельцем сервиса для электронной р...</td>\n      <td>https://t.me/rusven/5399</td>\n      <td>2023-09-19 15:29:20</td>\n    </tr>\n    <tr>\n      <th>4</th>\n      <td>6555020781</td>\n      <td>https://t.me/rusven</td>\n      <td>Российский фудтех-стартап “Повар на связи” при...</td>\n      <td>https://t.me/rusven/5398</td>\n      <td>2023-09-19 14:30:02</td>\n    </tr>\n    <tr>\n      <th>5</th>\n      <td>6555020781</td>\n      <td>https://t.me/rusven</td>\n      <td>**Какие тренды на венчурные инвестиции в Росси...</td>\n      <td>https://t.me/rusven/5397</td>\n      <td>2023-09-19 08:07:01</td>\n    </tr>\n    <tr>\n      <th>6</th>\n      <td>6555020781</td>\n      <td>https://t.me/rusven</td>\n      <td>Компания WayRay, базирующаяся в Швейцарии, [об...</td>\n      <td>https://t.me/rusven/5396</td>\n      <td>2023-09-19 07:16:05</td>\n    </tr>\n    <tr>\n      <th>7</th>\n      <td>6555020781</td>\n      <td>https://t.me/rusven</td>\n      <td>#газеты\\n“Ростелеком” получил 100% в разработч...</td>\n      <td>https://t.me/rusven/5395</td>\n      <td>2023-09-19 06:42:10</td>\n    </tr>\n  </tbody>\n</table>\n</div>"
     },
     "execution_count": 6,
     "metadata": {},
     "output_type": "execute_result"
    }
   ],
   "source": [
    "import joblib\n",
    "import pandas as pd\n",
    "from sklearn.feature_extraction.text import TfidfVectorizer\n",
    "import nltk\n",
    "from nltk.corpus import stopwords\n",
    "import random\n",
    "news = pd.read_csv('news.csv')\n",
    "news"
   ]
  },
  {
   "cell_type": "code",
   "execution_count": 9,
   "outputs": [
    {
     "name": "stderr",
     "output_type": "stream",
     "text": [
      "[nltk_data] Downloading package stopwords to\n",
      "[nltk_data]     /home/vladislav/nltk_data...\n",
      "[nltk_data]   Package stopwords is already up-to-date!\n"
     ]
    }
   ],
   "source": [
    "nltk.download('stopwords')\n",
    "russian_stop_words = stopwords.words(\"russian\")\n",
    "classifier = joblib.load('classifier.pkl')\n",
    "tfidf_vectorizer = joblib.load('tfidf_vectorizer.pkl')"
   ],
   "metadata": {
    "collapsed": false,
    "ExecuteTime": {
     "end_time": "2023-09-22T12:43:21.271999500Z",
     "start_time": "2023-09-22T12:43:21.017388700Z"
    }
   },
   "id": "2f3e69292cf26160"
  },
  {
   "cell_type": "code",
   "execution_count": 10,
   "outputs": [],
   "source": [
    "def get_categories(user_id):\n",
    "    predicted_channel_category = []\n",
    "    user_id_to_select = user_id\n",
    "    user_data = news[news['user_id'] == user_id_to_select]  # news заменяем на наш файл с новостями\n",
    "    user_data_grouped = user_data.groupby('channel_name')\n",
    "    for channel_name, channel_data in user_data_grouped:\n",
    "        channel_news_texts = channel_data['publication_text'].tolist()\n",
    "        channel_news_tfidf = tfidf_vectorizer.transform(channel_news_texts)\n",
    "\n",
    "        channel_news_predictions = classifier.predict(channel_news_tfidf)\n",
    "\n",
    "        predicted_channel_category.append(\n",
    "            max(set(channel_news_predictions), key=channel_news_predictions.tolist().count))\n",
    "    return predicted_channel_category "
   ],
   "metadata": {
    "collapsed": false,
    "ExecuteTime": {
     "end_time": "2023-09-22T12:46:03.829069900Z",
     "start_time": "2023-09-22T12:46:03.774743200Z"
    }
   },
   "id": "9f7626a1e1de9bb7"
  },
  {
   "cell_type": "code",
   "execution_count": 16,
   "outputs": [
    {
     "data": {
      "text/plain": "['новости', 'экономика']"
     },
     "execution_count": 16,
     "metadata": {},
     "output_type": "execute_result"
    }
   ],
   "source": [
    "get_categories(6555020781)"
   ],
   "metadata": {
    "collapsed": false,
    "ExecuteTime": {
     "end_time": "2023-09-22T12:48:30.162842400Z",
     "start_time": "2023-09-22T12:48:30.137129900Z"
    }
   },
   "id": "ed1e45a684413104"
  },
  {
   "cell_type": "code",
   "execution_count": 12,
   "outputs": [],
   "source": [
    "category_to_channels = {\n",
    "    'новости': [\n",
    "        'https://t.me/breakingmash',\n",
    "        'https://t.me/lentachold',\n",
    "        'https://t.me/astrapress',\n",
    "        'https://t.me/lentachold',\n",
    "        'https://t.me/theinsider',\n",
    "        'https://t.me/otsuka_bld',\n",
    "        'https://t.me/meduzalive',\n",
    "        'https://t.me/guardian',\n",
    "    ],\n",
    "    'юмор': [\n",
    "        'https://t.me/ia_panorama',\n",
    "        'https://t.me/dvachannel',\n",
    "        'https://t.me/pezduzalive',\n",
    "        'https://t.me/mudak',\n",
    "        'https://t.me/cats_cats',\n",
    "        'https://t.me/Reddit',\n",
    "        'https://t.me/paperpublic',\n",
    "        'https://t.me/thedankestmemes',\n",
    "        'https://t.me/memes',\n",
    "        'https://t.me/community_memy',\n",
    "    ],\n",
    "    'технологии': [\n",
    "        'https://t.me/bugnotfeature',\n",
    "        'https://t.me/prostinas',\n",
    "        'https://t.me/it_teech',\n",
    "        'https://t.me/rozetked',\n",
    "        'https://t.me/yandex',\n",
    "        'https://t.me/junior_developer_ua',\n",
    "        'https://t.me/htech_plus',\n",
    "        'https://t.me/cyberfreek',\n",
    "        'https://t.me/python2day',\n",
    "        'https://t.me/addmeto',\n",
    "    ],\n",
    "    'экономика': [\n",
    "        'https://t.me/zeroton',\n",
    "        'https://t.me/guriev_sm',\n",
    "        'https://t.me/financelist',\n",
    "        'https://t.me/proeconomics',\n",
    "        'https://t.me/hoolinomics',\n",
    "        'https://t.me/dohod',\n",
    "        'https://t.me/prime1',\n",
    "        'https://t.me/AK47pfl',\n",
    "        'https://t.me/forbesrussia',\n",
    "        'https://t.me/selfinvestor',\n",
    "    ],\n",
    "    'игры': [\n",
    "        'https://t.me/+VIuvvPWhb-mR4BRq',\n",
    "        'https://t.me/Dota2',\n",
    "        'https://t.me/egs_tg',\n",
    "        'https://t.me/vgtimes',\n",
    "        'https://t.me/stopgamenews',\n",
    "        'https://t.me/PROgame_news',\n",
    "        'https://t.me/GamezTop7',\n",
    "        'https://t.me/gamerbay',\n",
    "        'https://t.me/combobreaker',\n",
    "        'https://t.me/progamedev',\n",
    "    ],\n",
    "    'спорт': [\n",
    "        'https://t.me/championat',\n",
    "        'https://t.me/Match_TV',\n",
    "        'https://t.me/myachPRO',\n",
    "        'https://t.me/sportsru',\n",
    "        'https://t.me/QryaProDucktion',\n",
    "        'https://t.me/sjbodyfit',\n",
    "        'https://t.me/fiztransform',\n",
    "        'https://t.me/sportsmens1',\n",
    "        'https://t.me/runforhealth',\n",
    "        'https://t.me/sportazarto',\n",
    "    ],\n",
    "}"
   ],
   "metadata": {
    "collapsed": false,
    "ExecuteTime": {
     "end_time": "2023-09-22T12:46:43.784418400Z",
     "start_time": "2023-09-22T12:46:43.733387600Z"
    }
   },
   "id": "519bc21cd30b6fcb"
  },
  {
   "cell_type": "code",
   "execution_count": 13,
   "outputs": [],
   "source": [
    "def suggestions(predicted_channel_category, category_to_channels):\n",
    "\n",
    "    unique_categories = set(predicted_channel_category)\n",
    "\n",
    "    recommended_channels = []\n",
    "\n",
    "    if len(unique_categories) == 1:\n",
    "        category = unique_categories.pop()\n",
    "        channels_in_category = category_to_channels.get(category, [])\n",
    "        random.shuffle(channels_in_category)\n",
    "        recommended_channels = channels_in_category[:4]\n",
    "    elif len(unique_categories) == 2:\n",
    "        for category in unique_categories:\n",
    "            channels_in_category = category_to_channels.get(category, [])\n",
    "            random.shuffle(channels_in_category)\n",
    "            recommended_channels.extend(channels_in_category[:2])\n",
    "    elif len(unique_categories) == 3:\n",
    "        for category in unique_categories:\n",
    "            channels_in_category = category_to_channels.get(category, [])\n",
    "            random.shuffle(channels_in_category)\n",
    "            recommended_channels.extend(channels_in_category[:2])\n",
    "\n",
    "    return recommended_channels"
   ],
   "metadata": {
    "collapsed": false,
    "ExecuteTime": {
     "end_time": "2023-09-22T12:46:49.368370500Z",
     "start_time": "2023-09-22T12:46:49.361073100Z"
    }
   },
   "id": "e64e25bc2e281c9f"
  },
  {
   "cell_type": "code",
   "execution_count": 17,
   "outputs": [
    {
     "data": {
      "text/plain": "['https://t.me/theinsider',\n 'https://t.me/lentachold',\n 'https://t.me/proeconomics',\n 'https://t.me/financelist']"
     },
     "execution_count": 17,
     "metadata": {},
     "output_type": "execute_result"
    }
   ],
   "source": [
    "suggestions(get_categories(6555020781), category_to_channels)"
   ],
   "metadata": {
    "collapsed": false,
    "ExecuteTime": {
     "end_time": "2023-09-22T12:48:42.522257100Z",
     "start_time": "2023-09-22T12:48:42.500259Z"
    }
   },
   "id": "ebc13633700b96ac"
  },
  {
   "cell_type": "code",
   "execution_count": null,
   "outputs": [],
   "source": [],
   "metadata": {
    "collapsed": false
   },
   "id": "1bfdfc9091cbe4ad"
  }
 ],
 "metadata": {
  "kernelspec": {
   "display_name": "Python 3",
   "language": "python",
   "name": "python3"
  },
  "language_info": {
   "codemirror_mode": {
    "name": "ipython",
    "version": 2
   },
   "file_extension": ".py",
   "mimetype": "text/x-python",
   "name": "python",
   "nbconvert_exporter": "python",
   "pygments_lexer": "ipython2",
   "version": "2.7.6"
  }
 },
 "nbformat": 4,
 "nbformat_minor": 5
}
